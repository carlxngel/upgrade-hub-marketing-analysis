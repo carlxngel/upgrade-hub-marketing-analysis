{
 "cells": [
  {
   "cell_type": "markdown",
   "id": "c12ae2bc",
   "metadata": {},
   "source": [
    "# Preprocesamiento de datos"
   ]
  },
  {
   "cell_type": "markdown",
   "id": "393df9c7",
   "metadata": {},
   "source": [
    "## Importación de librerias"
   ]
  },
  {
   "cell_type": "code",
   "execution_count": 260,
   "id": "5ab01c41",
   "metadata": {},
   "outputs": [],
   "source": [
    "#Importamos las librerias necesarias\n",
    "import pandas as pd\n",
    "import numpy as np\n",
    "import matplotlib.pyplot as plt\n",
    "import seaborn as sns\n",
    "import folium\n",
    "from folium.plugins import HeatMap, MarkerCluster\n",
    "from sklearn.cluster import KMeans\n",
    "from sklearn.preprocessing import StandardScaler\n",
    "import datetime\n",
    "from matplotlib import cm\n",
    "from matplotlib.colors import ListedColormap\n",
    "import warnings\n",
    "warnings.filterwarnings(\"ignore\")"
   ]
  },
  {
   "cell_type": "markdown",
   "id": "376d478f",
   "metadata": {},
   "source": [
    "## Configuración visual"
   ]
  },
  {
   "cell_type": "code",
   "execution_count": 261,
   "id": "97248f4c",
   "metadata": {},
   "outputs": [],
   "source": [
    "#Configuración visual\n",
    "plt.style.use('seaborn-v0_8')\n",
    "sns.set(style=\"whitegrid\")\n",
    "plt.rcParams['figure.figsize'] = (12, 4)\n",
    "plt.rcParams['axes.labelsize'] = 12\n",
    "plt.rcParams['axes.titlesize'] = 14\n",
    "plt.rcParams['xtick.labelsize'] = 10\n",
    "plt.rcParams['ytick.labelsize'] = 10\n",
    "\n",
    "viridis = cm.get_cmap('viridis', 256)\n",
    "magma = cm.get_cmap('magma', 256)\n",
    "plasma = cm.get_cmap('plasma', 256)"
   ]
  },
  {
   "cell_type": "markdown",
   "id": "daf04e5d",
   "metadata": {},
   "source": [
    "## Carga de archivos"
   ]
  },
  {
   "cell_type": "code",
   "execution_count": 262,
   "id": "e5c1c130",
   "metadata": {},
   "outputs": [],
   "source": [
    "#Subimos el archivo csv a un dataframe\n",
    "df = pd.read_csv(\"marketingcampaigns.csv\", sep=',', quoting=1, on_bad_lines='skip')"
   ]
  },
  {
   "cell_type": "code",
   "execution_count": 263,
   "id": "0574c858",
   "metadata": {},
   "outputs": [
    {
     "data": {
      "text/html": [
       "<div>\n",
       "<style scoped>\n",
       "    .dataframe tbody tr th:only-of-type {\n",
       "        vertical-align: middle;\n",
       "    }\n",
       "\n",
       "    .dataframe tbody tr th {\n",
       "        vertical-align: top;\n",
       "    }\n",
       "\n",
       "    .dataframe thead th {\n",
       "        text-align: right;\n",
       "    }\n",
       "</style>\n",
       "<table border=\"1\" class=\"dataframe\">\n",
       "  <thead>\n",
       "    <tr style=\"text-align: right;\">\n",
       "      <th></th>\n",
       "      <th>campaign_name</th>\n",
       "      <th>start_date</th>\n",
       "      <th>end_date</th>\n",
       "      <th>budget</th>\n",
       "      <th>roi</th>\n",
       "      <th>type</th>\n",
       "      <th>target_audience</th>\n",
       "      <th>channel</th>\n",
       "      <th>conversion_rate</th>\n",
       "      <th>revenue</th>\n",
       "    </tr>\n",
       "  </thead>\n",
       "  <tbody>\n",
       "    <tr>\n",
       "      <th>0</th>\n",
       "      <td>Public-key multi-tasking throughput</td>\n",
       "      <td>2023-04-01</td>\n",
       "      <td>2024-02-23</td>\n",
       "      <td>8082.3</td>\n",
       "      <td>0.35</td>\n",
       "      <td>email</td>\n",
       "      <td>B2B</td>\n",
       "      <td>organic</td>\n",
       "      <td>0.40</td>\n",
       "      <td>709593.48</td>\n",
       "    </tr>\n",
       "    <tr>\n",
       "      <th>1</th>\n",
       "      <td>De-engineered analyzing task-force</td>\n",
       "      <td>2023-02-15</td>\n",
       "      <td>2024-04-22</td>\n",
       "      <td>17712.98</td>\n",
       "      <td>0.74</td>\n",
       "      <td>email</td>\n",
       "      <td>B2C</td>\n",
       "      <td>promotion</td>\n",
       "      <td>0.66</td>\n",
       "      <td>516609.10</td>\n",
       "    </tr>\n",
       "    <tr>\n",
       "      <th>2</th>\n",
       "      <td>Balanced solution-oriented Local Area Network</td>\n",
       "      <td>2022-12-20</td>\n",
       "      <td>2023-10-11</td>\n",
       "      <td>84643.1</td>\n",
       "      <td>0.37</td>\n",
       "      <td>podcast</td>\n",
       "      <td>B2B</td>\n",
       "      <td>paid</td>\n",
       "      <td>0.28</td>\n",
       "      <td>458227.42</td>\n",
       "    </tr>\n",
       "    <tr>\n",
       "      <th>3</th>\n",
       "      <td>Distributed real-time methodology</td>\n",
       "      <td>2022-09-26</td>\n",
       "      <td>2023-09-27</td>\n",
       "      <td>14589.75</td>\n",
       "      <td>0.47</td>\n",
       "      <td>webinar</td>\n",
       "      <td>B2B</td>\n",
       "      <td>organic</td>\n",
       "      <td>0.19</td>\n",
       "      <td>89958.73</td>\n",
       "    </tr>\n",
       "    <tr>\n",
       "      <th>4</th>\n",
       "      <td>Front-line executive infrastructure</td>\n",
       "      <td>2023-07-07</td>\n",
       "      <td>2024-05-15</td>\n",
       "      <td>39291.9</td>\n",
       "      <td>0.30</td>\n",
       "      <td>social media</td>\n",
       "      <td>B2B</td>\n",
       "      <td>promotion</td>\n",
       "      <td>0.81</td>\n",
       "      <td>47511.35</td>\n",
       "    </tr>\n",
       "  </tbody>\n",
       "</table>\n",
       "</div>"
      ],
      "text/plain": [
       "                                   campaign_name  start_date    end_date  \\\n",
       "0            Public-key multi-tasking throughput  2023-04-01  2024-02-23   \n",
       "1             De-engineered analyzing task-force  2023-02-15  2024-04-22   \n",
       "2  Balanced solution-oriented Local Area Network  2022-12-20  2023-10-11   \n",
       "3              Distributed real-time methodology  2022-09-26  2023-09-27   \n",
       "4            Front-line executive infrastructure  2023-07-07  2024-05-15   \n",
       "\n",
       "     budget   roi          type target_audience    channel  conversion_rate  \\\n",
       "0    8082.3  0.35         email             B2B    organic             0.40   \n",
       "1  17712.98  0.74         email             B2C  promotion             0.66   \n",
       "2   84643.1  0.37       podcast             B2B       paid             0.28   \n",
       "3  14589.75  0.47       webinar             B2B    organic             0.19   \n",
       "4   39291.9  0.30  social media             B2B  promotion             0.81   \n",
       "\n",
       "     revenue  \n",
       "0  709593.48  \n",
       "1  516609.10  \n",
       "2  458227.42  \n",
       "3   89958.73  \n",
       "4   47511.35  "
      ]
     },
     "execution_count": 263,
     "metadata": {},
     "output_type": "execute_result"
    }
   ],
   "source": [
    "#Leemos el archivo y comprobamos que se haya subido correctamente\n",
    "df.head(5)"
   ]
  },
  {
   "cell_type": "markdown",
   "id": "cac8d814",
   "metadata": {},
   "source": [
    "## PREPROCESAMIENTO DE DATOS"
   ]
  },
  {
   "cell_type": "markdown",
   "id": "779556d0",
   "metadata": {},
   "source": [
    "### Información del dataset"
   ]
  },
  {
   "cell_type": "code",
   "execution_count": 264,
   "id": "d5236ee2",
   "metadata": {},
   "outputs": [
    {
     "data": {
      "text/plain": [
       "(1032, 10)"
      ]
     },
     "execution_count": 264,
     "metadata": {},
     "output_type": "execute_result"
    }
   ],
   "source": [
    "df.shape #dimensiones del dataframe"
   ]
  },
  {
   "cell_type": "code",
   "execution_count": 265,
   "id": "364fffbd",
   "metadata": {},
   "outputs": [
    {
     "name": "stdout",
     "output_type": "stream",
     "text": [
      "<class 'pandas.core.frame.DataFrame'>\n",
      "RangeIndex: 1032 entries, 0 to 1031\n",
      "Data columns (total 10 columns):\n",
      " #   Column           Non-Null Count  Dtype  \n",
      "---  ------           --------------  -----  \n",
      " 0   campaign_name    1032 non-null   object \n",
      " 1   start_date       1031 non-null   object \n",
      " 2   end_date         1030 non-null   object \n",
      " 3   budget           1029 non-null   object \n",
      " 4   roi              1028 non-null   float64\n",
      " 5   type             1031 non-null   object \n",
      " 6   target_audience  1030 non-null   object \n",
      " 7   channel          1031 non-null   object \n",
      " 8   conversion_rate  1028 non-null   float64\n",
      " 9   revenue          1029 non-null   float64\n",
      "dtypes: float64(3), object(7)\n",
      "memory usage: 80.8+ KB\n"
     ]
    }
   ],
   "source": [
    "df.info() #informacion del dataframe"
   ]
  },
  {
   "cell_type": "code",
   "execution_count": 266,
   "id": "6ccf3f4b",
   "metadata": {},
   "outputs": [
    {
     "data": {
      "text/plain": [
       "Index(['campaign_name', 'start_date', 'end_date', 'budget', 'roi', 'type',\n",
       "       'target_audience', 'channel', 'conversion_rate', 'revenue'],\n",
       "      dtype='object')"
      ]
     },
     "execution_count": 266,
     "metadata": {},
     "output_type": "execute_result"
    }
   ],
   "source": [
    "df.columns #columnas del dataframe"
   ]
  },
  {
   "cell_type": "code",
   "execution_count": 267,
   "id": "93eb468c",
   "metadata": {},
   "outputs": [
    {
     "data": {
      "text/plain": [
       "np.int64(15)"
      ]
     },
     "execution_count": 267,
     "metadata": {},
     "output_type": "execute_result"
    }
   ],
   "source": [
    "df.duplicated().sum() # Comprobamos si hay filas duplicadas en el dataframe"
   ]
  },
  {
   "cell_type": "code",
   "execution_count": 268,
   "id": "94903abb",
   "metadata": {},
   "outputs": [],
   "source": [
    "df = df.drop_duplicates() #Eliminamos datos duplicados"
   ]
  },
  {
   "cell_type": "code",
   "execution_count": 269,
   "id": "c4f847a5",
   "metadata": {},
   "outputs": [
    {
     "data": {
      "text/html": [
       "<div>\n",
       "<style scoped>\n",
       "    .dataframe tbody tr th:only-of-type {\n",
       "        vertical-align: middle;\n",
       "    }\n",
       "\n",
       "    .dataframe tbody tr th {\n",
       "        vertical-align: top;\n",
       "    }\n",
       "\n",
       "    .dataframe thead th {\n",
       "        text-align: right;\n",
       "    }\n",
       "</style>\n",
       "<table border=\"1\" class=\"dataframe\">\n",
       "  <thead>\n",
       "    <tr style=\"text-align: right;\">\n",
       "      <th></th>\n",
       "      <th>roi</th>\n",
       "      <th>conversion_rate</th>\n",
       "      <th>revenue</th>\n",
       "    </tr>\n",
       "  </thead>\n",
       "  <tbody>\n",
       "    <tr>\n",
       "      <th>count</th>\n",
       "      <td>1013.000000</td>\n",
       "      <td>1013.000000</td>\n",
       "      <td>1014.000000</td>\n",
       "    </tr>\n",
       "    <tr>\n",
       "      <th>mean</th>\n",
       "      <td>0.535084</td>\n",
       "      <td>0.543376</td>\n",
       "      <td>513344.391292</td>\n",
       "    </tr>\n",
       "    <tr>\n",
       "      <th>std</th>\n",
       "      <td>0.262657</td>\n",
       "      <td>0.267734</td>\n",
       "      <td>287623.398940</td>\n",
       "    </tr>\n",
       "    <tr>\n",
       "      <th>min</th>\n",
       "      <td>-0.200000</td>\n",
       "      <td>0.000000</td>\n",
       "      <td>108.210000</td>\n",
       "    </tr>\n",
       "    <tr>\n",
       "      <th>25%</th>\n",
       "      <td>0.310000</td>\n",
       "      <td>0.300000</td>\n",
       "      <td>268474.472500</td>\n",
       "    </tr>\n",
       "    <tr>\n",
       "      <th>50%</th>\n",
       "      <td>0.530000</td>\n",
       "      <td>0.550000</td>\n",
       "      <td>519906.220000</td>\n",
       "    </tr>\n",
       "    <tr>\n",
       "      <th>75%</th>\n",
       "      <td>0.770000</td>\n",
       "      <td>0.770000</td>\n",
       "      <td>770016.185000</td>\n",
       "    </tr>\n",
       "    <tr>\n",
       "      <th>max</th>\n",
       "      <td>0.990000</td>\n",
       "      <td>1.500000</td>\n",
       "      <td>999712.490000</td>\n",
       "    </tr>\n",
       "  </tbody>\n",
       "</table>\n",
       "</div>"
      ],
      "text/plain": [
       "               roi  conversion_rate        revenue\n",
       "count  1013.000000      1013.000000    1014.000000\n",
       "mean      0.535084         0.543376  513344.391292\n",
       "std       0.262657         0.267734  287623.398940\n",
       "min      -0.200000         0.000000     108.210000\n",
       "25%       0.310000         0.300000  268474.472500\n",
       "50%       0.530000         0.550000  519906.220000\n",
       "75%       0.770000         0.770000  770016.185000\n",
       "max       0.990000         1.500000  999712.490000"
      ]
     },
     "execution_count": 269,
     "metadata": {},
     "output_type": "execute_result"
    }
   ],
   "source": [
    "df.describe() #estadisticas del dataframe"
   ]
  },
  {
   "cell_type": "code",
   "execution_count": 270,
   "id": "833a75b0",
   "metadata": {},
   "outputs": [
    {
     "data": {
      "text/plain": [
       "campaign_name      0\n",
       "start_date         1\n",
       "end_date           2\n",
       "budget             3\n",
       "roi                4\n",
       "type               1\n",
       "target_audience    2\n",
       "channel            1\n",
       "conversion_rate    4\n",
       "revenue            3\n",
       "dtype: int64"
      ]
     },
     "execution_count": 270,
     "metadata": {},
     "output_type": "execute_result"
    }
   ],
   "source": [
    "df.isnull().sum() #comprobamos si hay valores nulos en el dataframe"
   ]
  },
  {
   "cell_type": "code",
   "execution_count": 271,
   "id": "d6495aac",
   "metadata": {},
   "outputs": [
    {
     "data": {
      "text/plain": [
       "campaign_name      0.000000\n",
       "start_date         0.098328\n",
       "end_date           0.196657\n",
       "budget             0.294985\n",
       "roi                0.393314\n",
       "type               0.098328\n",
       "target_audience    0.196657\n",
       "channel            0.098328\n",
       "conversion_rate    0.393314\n",
       "revenue            0.294985\n",
       "dtype: float64"
      ]
     },
     "execution_count": 271,
     "metadata": {},
     "output_type": "execute_result"
    }
   ],
   "source": [
    "df.isnull().sum() / len(df) * 100 #comprobamos el porcentaje de valores nulos en el dataframe"
   ]
  },
  {
   "cell_type": "code",
   "execution_count": 272,
   "id": "3e4795db",
   "metadata": {},
   "outputs": [
    {
     "data": {
      "text/plain": [
       "<Axes: >"
      ]
     },
     "execution_count": 272,
     "metadata": {},
     "output_type": "execute_result"
    },
    {
     "data": {
      "image/png": "[encoded data removed]",
      "text/plain": [
       "<Figure size 1200x400 with 1 Axes>"
      ]
     },
     "metadata": {},
     "output_type": "display_data"
    }
   ],
   "source": [
    "sns.heatmap(df.isnull(), cbar=False, cmap='viridis') #visualizamos los valores nulos en el dataframe"
   ]
  },
  {
   "cell_type": "markdown",
   "id": "64a57a20",
   "metadata": {},
   "source": [
    "### Limpieza y reparación de datos"
   ]
  },
  {
   "cell_type": "markdown",
   "id": "97914673",
   "metadata": {},
   "source": [
    "##### Columna \"end_date\""
   ]
  },
  {
   "cell_type": "code",
   "execution_count": 273,
   "id": "a9d53fe9",
   "metadata": {},
   "outputs": [],
   "source": [
    "#Remplazamos los datos nulos de la columna end_date por \"sin datos\"\n",
    "df['end_date'] = df['end_date'].fillna('sin datos')"
   ]
  },
  {
   "cell_type": "markdown",
   "id": "dbf9d520",
   "metadata": {},
   "source": [
    "##### Columna \"budget\""
   ]
  },
  {
   "cell_type": "code",
   "execution_count": 274,
   "id": "27a6964a",
   "metadata": {},
   "outputs": [],
   "source": [
    "# Convertimos la columna 'budget' a numérica, forzando errores a NaN\n",
    "df['budget'] = pd.to_numeric(df['budget'], errors='coerce')\n",
    "# Calculamos la mediana ignorando NaN\n",
    "mediana_budget = df['budget'].median()\n",
    "# Reemplazamos los valores nulos por la mediana\n",
    "df['budget'] = df['budget'].fillna(mediana_budget)"
   ]
  },
  {
   "cell_type": "markdown",
   "id": "308c6c02",
   "metadata": {},
   "source": [
    "##### Columna \"roi\""
   ]
  },
  {
   "cell_type": "code",
   "execution_count": 275,
   "id": "aa7bdbb4",
   "metadata": {},
   "outputs": [],
   "source": [
    "# Calculamos la mediana de la columna 'roi' ignorando NaN\n",
    "mediana_roi = df['roi'].median()\n",
    "# Reemplazamos los valores nulos por la mediana\n",
    "df['roi'] = df['roi'].fillna(mediana_roi)"
   ]
  },
  {
   "cell_type": "markdown",
   "id": "7db2b1c0",
   "metadata": {},
   "source": [
    "##### Columna \"type\""
   ]
  },
  {
   "cell_type": "code",
   "execution_count": 276,
   "id": "9637028b",
   "metadata": {},
   "outputs": [],
   "source": [
    "#Remplazamos los datos nulos de la columna type por \"sin datos\"\n",
    "df['type'] = df['type'].fillna('sin datos')"
   ]
  },
  {
   "cell_type": "markdown",
   "id": "ce12df25",
   "metadata": {},
   "source": [
    "##### Columna \"target_audience\""
   ]
  },
  {
   "cell_type": "code",
   "execution_count": 277,
   "id": "7f95f472",
   "metadata": {},
   "outputs": [],
   "source": [
    "# Reemplazamos los datos nulos de la columna 'target_audience' por \"sin datos\"\n",
    "df['target_audience'] = df['target_audience'].fillna('sin datos')"
   ]
  },
  {
   "cell_type": "markdown",
   "id": "0e2fa36b",
   "metadata": {},
   "source": [
    "##### Columna \"channel\""
   ]
  },
  {
   "cell_type": "code",
   "execution_count": 278,
   "id": "e96ca5f8",
   "metadata": {},
   "outputs": [],
   "source": [
    "# Reemplazamos los datos nulos de la columna 'channel' por \"sin datos\"\n",
    "df['channel'] = df['channel'].fillna('sin datos')"
   ]
  },
  {
   "cell_type": "markdown",
   "id": "2c2592c5",
   "metadata": {},
   "source": [
    "##### Columna \"conversion_rate\""
   ]
  },
  {
   "cell_type": "code",
   "execution_count": 279,
   "id": "47bf8e7b",
   "metadata": {},
   "outputs": [],
   "source": [
    "# Calculamos la mediana de la columna 'conversion_rate' ignorando NaN\n",
    "mediana_conversion_rate = df['conversion_rate'].median()\n",
    "# Reemplazamos los valores nulos por la mediana\n",
    "df['conversion_rate'] = df['conversion_rate'].fillna(mediana_conversion_rate)"
   ]
  },
  {
   "cell_type": "markdown",
   "id": "4da25082",
   "metadata": {},
   "source": [
    "##### Columna \"revenue\""
   ]
  },
  {
   "cell_type": "code",
   "execution_count": 280,
   "id": "d08d4184",
   "metadata": {},
   "outputs": [],
   "source": [
    "# Calculamos la mediana de la columna 'revenue' ignorando NaN\n",
    "mediana_revenue = df['revenue'].median()\n",
    "# Reemplazamos los valores nulos por la mediana\n",
    "df['revenue'] = df['revenue'].fillna(mediana_revenue)"
   ]
  },
  {
   "cell_type": "code",
   "execution_count": 281,
   "id": "38a55e78",
   "metadata": {},
   "outputs": [
    {
     "data": {
      "text/plain": [
       "campaign_name      0.000000\n",
       "start_date         0.098328\n",
       "end_date           0.000000\n",
       "budget             0.000000\n",
       "roi                0.000000\n",
       "type               0.000000\n",
       "target_audience    0.000000\n",
       "channel            0.000000\n",
       "conversion_rate    0.000000\n",
       "revenue            0.000000\n",
       "dtype: float64"
      ]
     },
     "execution_count": 281,
     "metadata": {},
     "output_type": "execute_result"
    }
   ],
   "source": [
    "df.isnull().sum() / len(df) * 100 #comprobamos el porcentaje de valores nulos en el dataframe"
   ]
  },
  {
   "cell_type": "markdown",
   "id": "eddec027",
   "metadata": {},
   "source": [
    "##### Renombramos columnas"
   ]
  },
  {
   "cell_type": "code",
   "execution_count": 282,
   "id": "1a4b4548",
   "metadata": {},
   "outputs": [],
   "source": [
    "df.rename(columns={'campaign_name': 'nombre campaña'}, inplace=True) #renombramos la columna \"campaing_name\"\n",
    "df.rename(columns={'start_date': 'fecha inicio'}, inplace=True) #renombramos la columna \"start_date\"\n",
    "df.rename(columns={'end_date': 'fecha fin'}, inplace=True) #renombramos la columna \"end_date\"\n",
    "df.rename(columns={'budget': 'inversión'}, inplace=True) #renombramos la columna \"budget\"\n",
    "df.rename(columns={'roi': 'retorno inversión'}, inplace=True) #renombramos la columna \"roi\"\n",
    "df.rename(columns={'type': 'tipo'}, inplace=True) #renombramos la columna \"type\"\n",
    "df.rename(columns={'target_audience': 'audiencia target'}, inplace=True) #renombramos la columna \"target_audience\"\n",
    "df.rename(columns={'channel': 'canal'}, inplace=True) #renombramos la columna \"channel\"\n",
    "df.rename(columns={'conversion_rate': 'ratio conversión'}, inplace=True) #renombramos la columna \"conversion_rate\"\n",
    "df.rename(columns={'revenue': 'facturación'}, inplace=True) #renombramos la columna \"revenue\""
   ]
  },
  {
   "cell_type": "markdown",
   "id": "ed169bd6",
   "metadata": {},
   "source": [
    "##### Reparación de fechas"
   ]
  },
  {
   "cell_type": "code",
   "execution_count": 283,
   "id": "02a676b1",
   "metadata": {},
   "outputs": [
    {
     "name": "stdout",
     "output_type": "stream",
     "text": [
      "Fechas no válidas en 'fecha inicio': 3\n",
      "Fechas no válidas en 'fecha fin': 3\n"
     ]
    }
   ],
   "source": [
    "# Identificamos y corregimos fechas mal escritas en 'fecha inicio' y 'fecha fin'\n",
    "# Si hay fechas como strings no convertidas, intentamos forzar su conversión\n",
    "\n",
    "# Reconvertimos a datetime forzando errores a NaT\n",
    "df['fecha inicio'] = pd.to_datetime(df['fecha inicio'], errors='coerce')\n",
    "df['fecha fin'] = pd.to_datetime(df['fecha fin'], errors='coerce')\n",
    "\n",
    "# Mostramos cuántos valores siguen siendo NaT tras la conversión\n",
    "print(\"Fechas no válidas en 'fecha inicio':\", df['fecha inicio'].isna().sum())\n",
    "print(\"Fechas no válidas en 'fecha fin':\", df['fecha fin'].isna().sum())"
   ]
  },
  {
   "cell_type": "markdown",
   "id": "d68af239",
   "metadata": {},
   "source": [
    "##### Valores extraños"
   ]
  },
  {
   "cell_type": "markdown",
   "id": "482e23ef",
   "metadata": {},
   "source": [
    "##### Reparación de valores en columnas Revenue y Budget"
   ]
  },
  {
   "cell_type": "code",
   "execution_count": 284,
   "id": "b3dc11ef",
   "metadata": {
    "vscode": {
     "languageId": "ruby"
    }
   },
   "outputs": [],
   "source": [
    "# Eliminamos las filas donde la columna 'inversión' tenga valores negativos\n",
    "df = df[df['inversión'] >= 0].copy()"
   ]
  },
  {
   "cell_type": "code",
   "execution_count": 285,
   "id": "89f54d7a",
   "metadata": {
    "vscode": {
     "languageId": "ruby"
    }
   },
   "outputs": [
    {
     "name": "stdout",
     "output_type": "stream",
     "text": [
      "Número de valores negativos en 'inversión': 0\n"
     ]
    }
   ],
   "source": [
    "valores_negativos = (df['inversión'] < 0).sum()\n",
    "print(f\"Número de valores negativos en 'inversión': {valores_negativos}\")"
   ]
  },
  {
   "cell_type": "code",
   "execution_count": 286,
   "id": "e4c4d4d0",
   "metadata": {},
   "outputs": [],
   "source": [
    "# No eliminamos los outliers de momento. Veremos como se comportan en el análisis EDA y decidiremos."
   ]
  },
  {
   "cell_type": "markdown",
   "id": "a0666023",
   "metadata": {},
   "source": [
    "##### Conversión de valores numéricos"
   ]
  },
  {
   "cell_type": "code",
   "execution_count": 287,
   "id": "4661e074",
   "metadata": {},
   "outputs": [],
   "source": [
    "# Función para convertir valores numéricos a formato con separador de miles y decimales con coma\n",
    "def formato_espanol(valor):\n",
    "    try:\n",
    "        valor_float = float(valor)\n",
    "        return f\"{valor_float:,.2f}\".replace(\",\", \"X\").replace(\".\", \",\").replace(\"X\", \".\")\n",
    "    except:\n",
    "        return valor\n",
    "\n",
    "# Aplicamos el formato a las columnas numéricas existentes\n",
    "columnas_numericas = ['inversión', 'retorno inversión', 'ratio conversión', 'facturación']\n",
    "for col in columnas_numericas:\n",
    "    df[col] = df[col].apply(formato_espanol)"
   ]
  },
  {
   "cell_type": "markdown",
   "id": "8e4ee901",
   "metadata": {},
   "source": [
    "##### Reparación de decimales en columnas Roi y conversion rate"
   ]
  },
  {
   "cell_type": "code",
   "execution_count": 288,
   "id": "2cea6351",
   "metadata": {},
   "outputs": [],
   "source": [
    "# Convertimos los valores numéricos de las columnas 'facturación' e 'inversión' a formato \"claro\"\n",
    "def formato_claro(valor):\n",
    "    try:\n",
    "        valor_float = float(str(valor).replace('.', '').replace(',', '.'))\n",
    "        return f\"{valor_float:,.2f}\".replace(\",\", \"X\").replace(\".\", \",\").replace(\"X\", \".\")\n",
    "    except:\n",
    "        return valor\n",
    "\n",
    "df['facturación'] = df['facturación'].apply(formato_claro)\n",
    "df['inversión'] = df['inversión'].apply(formato_claro)"
   ]
  },
  {
   "cell_type": "markdown",
   "id": "277d1397",
   "metadata": {},
   "source": [
    "##### Corrección de palabras mal escritas"
   ]
  },
  {
   "cell_type": "markdown",
   "id": "0572a4dc",
   "metadata": {},
   "source": [
    "##### Columna channel"
   ]
  },
  {
   "cell_type": "code",
   "execution_count": 289,
   "id": "45eedb6b",
   "metadata": {},
   "outputs": [
    {
     "name": "stdout",
     "output_type": "stream",
     "text": [
      "Valores únicos en 'canal':\n",
      "['organic' 'promotion' 'paid' 'referral' 'sin datos']\n",
      "\n",
      "Recuento de valores en 'canal':\n",
      "canal\n",
      "promotion    276\n",
      "referral     253\n",
      "organic      245\n",
      "paid         241\n",
      "sin datos      1\n",
      "Name: count, dtype: int64\n"
     ]
    }
   ],
   "source": [
    "# Buscamos posibles errores de escritura en los valores de la columna 'canal'\n",
    "print(\"Valores únicos en 'canal':\")\n",
    "print(df['canal'].unique())\n",
    "\n",
    "# También mostramos el recuento de cada valor para detectar posibles errores frecuentes\n",
    "print(\"\\nRecuento de valores en 'canal':\")\n",
    "print(df['canal'].value_counts(dropna=False))"
   ]
  },
  {
   "cell_type": "markdown",
   "id": "0a977416",
   "metadata": {},
   "source": [
    "##### Columna target"
   ]
  },
  {
   "cell_type": "code",
   "execution_count": 290,
   "id": "67e5e401",
   "metadata": {},
   "outputs": [
    {
     "name": "stdout",
     "output_type": "stream",
     "text": [
      "Valores únicos en 'audiencia target':\n",
      "['B2B' 'B2C' 'social media' 'sin datos']\n",
      "\n",
      "Recuento de valores en 'audiencia target':\n",
      "audiencia target\n",
      "B2B             520\n",
      "B2C             493\n",
      "sin datos         2\n",
      "social media      1\n",
      "Name: count, dtype: int64\n"
     ]
    }
   ],
   "source": [
    "# Buscamos posibles errores de escritura en los valores de la columna 'audiencia target'\n",
    "print(\"Valores únicos en 'audiencia target':\")\n",
    "print(df['audiencia target'].unique())\n",
    "\n",
    "# También mostramos el recuento de cada valor para detectar posibles errores frecuentes\n",
    "print(\"\\nRecuento de valores en 'audiencia target':\")\n",
    "print(df['audiencia target'].value_counts(dropna=False))"
   ]
  },
  {
   "cell_type": "markdown",
   "id": "9eb119de",
   "metadata": {},
   "source": [
    "### Nuevos datos"
   ]
  },
  {
   "cell_type": "markdown",
   "id": "b048c4d1",
   "metadata": {},
   "source": [
    "##### Añadimos nueva columna para la duración de las campañas"
   ]
  },
  {
   "cell_type": "code",
   "execution_count": 291,
   "id": "86496a67",
   "metadata": {
    "vscode": {
     "languageId": "ruby"
    }
   },
   "outputs": [],
   "source": [
    "# Nos aseguramos de que las columnas de fecha sean tipo datetime\n",
    "df['fecha inicio'] = pd.to_datetime(df['fecha inicio'], errors='coerce')\n",
    "df['fecha fin'] = pd.to_datetime(df['fecha fin'], errors='coerce')\n",
    "\n",
    "# Calculamos la duración en días a partir de fecha inicio y fecha fin\n",
    "df['duración días'] = (df['fecha fin'] - df['fecha inicio']).dt.days\n",
    "\n",
    "# Si alguna fila tiene fechas no válidas o faltantes, el resultado será NaN\n",
    "df['duración días'] = df['duración días'].fillna('sin datos')"
   ]
  },
  {
   "cell_type": "code",
   "execution_count": 292,
   "id": "3af6cd94",
   "metadata": {
    "vscode": {
     "languageId": "ruby"
    }
   },
   "outputs": [
    {
     "data": {
      "text/plain": [
       "count     1016.0\n",
       "unique     499.0\n",
       "top        441.0\n",
       "freq         7.0\n",
       "Name: duración días, dtype: float64"
      ]
     },
     "execution_count": 292,
     "metadata": {},
     "output_type": "execute_result"
    }
   ],
   "source": [
    "df['duración días'].describe()"
   ]
  },
  {
   "cell_type": "markdown",
   "id": "43ad3cfc",
   "metadata": {},
   "source": [
    "#### Añadimos nueva columna para categorizar la duración de las camapañas en \"corta\", \"media\" y \"larga\""
   ]
  },
  {
   "cell_type": "code",
   "execution_count": 293,
   "id": "64525b05",
   "metadata": {},
   "outputs": [],
   "source": [
    "# Calculamos la mediana de la columna 'duración días' ignorando los valores 'sin datos'\n",
    "duracion_numerica = pd.to_numeric(df['duración días'], errors='coerce')\n",
    "mediana_duracion = duracion_numerica.median()\n",
    "\n",
    "# Definimos función para categorizar la duración\n",
    "def categorizar_duracion(dias, mediana):\n",
    "    try:\n",
    "        dias = float(dias)\n",
    "        if np.isnan(dias):\n",
    "            return 'sin datos'\n",
    "        if dias < mediana * 0.75:\n",
    "            return 'corta'\n",
    "        elif dias <= mediana * 1.25:\n",
    "            return 'media'\n",
    "        else:\n",
    "            return 'larga'\n",
    "    except:\n",
    "        return 'sin datos'\n",
    "\n",
    "# Aplicamos la función a la columna 'duración días'\n",
    "df['categoría duración'] = df['duración días'].apply(lambda x: categorizar_duracion(x, mediana_duracion))"
   ]
  },
  {
   "cell_type": "markdown",
   "id": "dfbbac41",
   "metadata": {},
   "source": [
    "##### Añadimos nueva columna para el beneficio neto (Revenue - Budget)"
   ]
  },
  {
   "cell_type": "code",
   "execution_count": 295,
   "id": "09a53e31",
   "metadata": {},
   "outputs": [],
   "source": [
    "# Creamos una función para calcular el beneficio neto y devolverlo con formato español\n",
    "def calcular_beneficio_neto(row):\n",
    "    try:\n",
    "        inversion = float(str(row['inversión']).replace('.', '').replace(',', '.'))\n",
    "        facturacion = float(str(row['facturación']).replace('.', '').replace(',', '.'))\n",
    "        beneficio = facturacion - inversion\n",
    "        return f\"{beneficio:,.2f}\".replace(\",\", \"X\").replace(\".\", \",\").replace(\"X\", \".\")\n",
    "    except:\n",
    "        return 'sin datos'\n",
    "\n",
    "df['beneficio neto'] = df.apply(calcular_beneficio_neto, axis=1)"
   ]
  },
  {
   "cell_type": "markdown",
   "id": "4ce616b1",
   "metadata": {},
   "source": [
    "##### Éxito en la campaña"
   ]
  },
  {
   "cell_type": "code",
   "execution_count": 298,
   "id": "7faa2979",
   "metadata": {},
   "outputs": [],
   "source": [
    "# Creamos una nueva columna 'campaña exitosa' que indica si el beneficio neto es positivo o no\n",
    "def es_exitosa(beneficio):\n",
    "\ttry:\n",
    "\t\t# Convertimos el string a float (formato español: miles con punto, decimales con coma)\n",
    "\t\tbeneficio_float = float(str(beneficio).replace('.', '').replace(',', '.'))\n",
    "\t\treturn 'Sí' if beneficio_float > 0 else 'No'\n",
    "\texcept:\n",
    "\t\treturn 'No'\n",
    "\n",
    "df['campaña exitosa'] = df['beneficio neto'].apply(es_exitosa)"
   ]
  },
  {
   "cell_type": "code",
   "execution_count": 301,
   "id": "05eeba51",
   "metadata": {},
   "outputs": [
    {
     "data": {
      "text/plain": [
       "campaña exitosa\n",
       "Sí    973\n",
       "No     43\n",
       "Name: count, dtype: int64"
      ]
     },
     "execution_count": 301,
     "metadata": {},
     "output_type": "execute_result"
    }
   ],
   "source": [
    "df['campaña exitosa'].value_counts()"
   ]
  },
  {
   "cell_type": "markdown",
   "id": "8e05252c",
   "metadata": {},
   "source": [
    "##### Categorización de la inversión"
   ]
  },
  {
   "cell_type": "code",
   "execution_count": 302,
   "id": "9cfe6201",
   "metadata": {},
   "outputs": [],
   "source": [
    "# Creamos una función para categorizar la inversión según la mediana\n",
    "def categorizar_inversion(valor, mediana):\n",
    "    try:\n",
    "        valor_float = float(str(valor).replace('.', '').replace(',', '.'))\n",
    "        if valor_float < mediana * 0.75:\n",
    "            return 'bajo'\n",
    "        elif valor_float <= mediana * 1.25:\n",
    "            return 'medio'\n",
    "        else:\n",
    "            return 'alto'\n",
    "    except:\n",
    "        return 'sin datos'\n",
    "\n",
    "df['categoría inversión'] = df['inversión'].apply(lambda x: categorizar_inversion(x, mediana_inversion))"
   ]
  },
  {
   "cell_type": "markdown",
   "id": "b7db5221",
   "metadata": {},
   "source": [
    "##### Categorización del beneficio"
   ]
  },
  {
   "cell_type": "code",
   "execution_count": 304,
   "id": "77f009e6",
   "metadata": {},
   "outputs": [],
   "source": [
    "# Primero convertimos la columna 'beneficio neto' a valores numéricos para calcular la mediana\n",
    "beneficio_neto_numerico = df['beneficio neto'].apply(lambda x: float(str(x).replace('.', '').replace(',', '.')) if x != 'sin datos' else np.nan)\n",
    "mediana_beneficio = beneficio_neto_numerico.median()\n",
    "\n",
    "# Función para categorizar el beneficio neto\n",
    "def categorizar_beneficio(valor, mediana):\n",
    "    try:\n",
    "        valor_float = float(str(valor).replace('.', '').replace(',', '.'))\n",
    "        if valor_float < mediana * 0.75:\n",
    "            return 'bajo'\n",
    "        elif valor_float <= mediana * 1.25:\n",
    "            return 'medio'\n",
    "        else:\n",
    "            return 'alto'\n",
    "    except:\n",
    "        return 'sin datos'\n",
    "\n",
    "df['categoría beneficio'] = df['beneficio neto'].apply(lambda x: categorizar_beneficio(x, mediana_beneficio))"
   ]
  },
  {
   "cell_type": "code",
   "execution_count": 306,
   "id": "5541f7b3",
   "metadata": {
    "vscode": {
     "languageId": "ruby"
    }
   },
   "outputs": [
    {
     "data": {
      "text/html": [
       "<div>\n",
       "<style scoped>\n",
       "    .dataframe tbody tr th:only-of-type {\n",
       "        vertical-align: middle;\n",
       "    }\n",
       "\n",
       "    .dataframe tbody tr th {\n",
       "        vertical-align: top;\n",
       "    }\n",
       "\n",
       "    .dataframe thead th {\n",
       "        text-align: right;\n",
       "    }\n",
       "</style>\n",
       "<table border=\"1\" class=\"dataframe\">\n",
       "  <thead>\n",
       "    <tr style=\"text-align: right;\">\n",
       "      <th></th>\n",
       "      <th>nombre campaña</th>\n",
       "      <th>fecha inicio</th>\n",
       "      <th>fecha fin</th>\n",
       "      <th>inversión</th>\n",
       "      <th>retorno inversión</th>\n",
       "      <th>tipo</th>\n",
       "      <th>audiencia target</th>\n",
       "      <th>canal</th>\n",
       "      <th>ratio conversión</th>\n",
       "      <th>facturación</th>\n",
       "      <th>duración días</th>\n",
       "      <th>categoría duración</th>\n",
       "      <th>beneficio neto</th>\n",
       "      <th>campaña exitosa</th>\n",
       "      <th>categoría inversión</th>\n",
       "      <th>categoría beneficio</th>\n",
       "    </tr>\n",
       "  </thead>\n",
       "  <tbody>\n",
       "    <tr>\n",
       "      <th>0</th>\n",
       "      <td>Public-key multi-tasking throughput</td>\n",
       "      <td>2023-04-01</td>\n",
       "      <td>2024-02-23</td>\n",
       "      <td>8.082,30</td>\n",
       "      <td>0,35</td>\n",
       "      <td>email</td>\n",
       "      <td>B2B</td>\n",
       "      <td>organic</td>\n",
       "      <td>0,40</td>\n",
       "      <td>709.593,48</td>\n",
       "      <td>328.0</td>\n",
       "      <td>media</td>\n",
       "      <td>701.511,18</td>\n",
       "      <td>Sí</td>\n",
       "      <td>bajo</td>\n",
       "      <td>alto</td>\n",
       "    </tr>\n",
       "    <tr>\n",
       "      <th>1</th>\n",
       "      <td>De-engineered analyzing task-force</td>\n",
       "      <td>2023-02-15</td>\n",
       "      <td>2024-04-22</td>\n",
       "      <td>17.712,98</td>\n",
       "      <td>0,74</td>\n",
       "      <td>email</td>\n",
       "      <td>B2C</td>\n",
       "      <td>promotion</td>\n",
       "      <td>0,66</td>\n",
       "      <td>516.609,10</td>\n",
       "      <td>432.0</td>\n",
       "      <td>media</td>\n",
       "      <td>498.896,12</td>\n",
       "      <td>Sí</td>\n",
       "      <td>bajo</td>\n",
       "      <td>medio</td>\n",
       "    </tr>\n",
       "    <tr>\n",
       "      <th>2</th>\n",
       "      <td>Balanced solution-oriented Local Area Network</td>\n",
       "      <td>2022-12-20</td>\n",
       "      <td>2023-10-11</td>\n",
       "      <td>84.643,10</td>\n",
       "      <td>0,37</td>\n",
       "      <td>podcast</td>\n",
       "      <td>B2B</td>\n",
       "      <td>paid</td>\n",
       "      <td>0,28</td>\n",
       "      <td>458.227,42</td>\n",
       "      <td>295.0</td>\n",
       "      <td>media</td>\n",
       "      <td>373.584,32</td>\n",
       "      <td>Sí</td>\n",
       "      <td>alto</td>\n",
       "      <td>medio</td>\n",
       "    </tr>\n",
       "    <tr>\n",
       "      <th>3</th>\n",
       "      <td>Distributed real-time methodology</td>\n",
       "      <td>2022-09-26</td>\n",
       "      <td>2023-09-27</td>\n",
       "      <td>14.589,75</td>\n",
       "      <td>0,47</td>\n",
       "      <td>webinar</td>\n",
       "      <td>B2B</td>\n",
       "      <td>organic</td>\n",
       "      <td>0,19</td>\n",
       "      <td>89.958,73</td>\n",
       "      <td>366.0</td>\n",
       "      <td>media</td>\n",
       "      <td>75.368,98</td>\n",
       "      <td>Sí</td>\n",
       "      <td>bajo</td>\n",
       "      <td>bajo</td>\n",
       "    </tr>\n",
       "    <tr>\n",
       "      <th>4</th>\n",
       "      <td>Front-line executive infrastructure</td>\n",
       "      <td>2023-07-07</td>\n",
       "      <td>2024-05-15</td>\n",
       "      <td>39.291,90</td>\n",
       "      <td>0,30</td>\n",
       "      <td>social media</td>\n",
       "      <td>B2B</td>\n",
       "      <td>promotion</td>\n",
       "      <td>0,81</td>\n",
       "      <td>47.511,35</td>\n",
       "      <td>313.0</td>\n",
       "      <td>media</td>\n",
       "      <td>8.219,45</td>\n",
       "      <td>Sí</td>\n",
       "      <td>medio</td>\n",
       "      <td>bajo</td>\n",
       "    </tr>\n",
       "  </tbody>\n",
       "</table>\n",
       "</div>"
      ],
      "text/plain": [
       "                                  nombre campaña fecha inicio  fecha fin  \\\n",
       "0            Public-key multi-tasking throughput   2023-04-01 2024-02-23   \n",
       "1             De-engineered analyzing task-force   2023-02-15 2024-04-22   \n",
       "2  Balanced solution-oriented Local Area Network   2022-12-20 2023-10-11   \n",
       "3              Distributed real-time methodology   2022-09-26 2023-09-27   \n",
       "4            Front-line executive infrastructure   2023-07-07 2024-05-15   \n",
       "\n",
       "   inversión retorno inversión          tipo audiencia target      canal  \\\n",
       "0   8.082,30              0,35         email              B2B    organic   \n",
       "1  17.712,98              0,74         email              B2C  promotion   \n",
       "2  84.643,10              0,37       podcast              B2B       paid   \n",
       "3  14.589,75              0,47       webinar              B2B    organic   \n",
       "4  39.291,90              0,30  social media              B2B  promotion   \n",
       "\n",
       "  ratio conversión facturación duración días categoría duración  \\\n",
       "0             0,40  709.593,48         328.0              media   \n",
       "1             0,66  516.609,10         432.0              media   \n",
       "2             0,28  458.227,42         295.0              media   \n",
       "3             0,19   89.958,73         366.0              media   \n",
       "4             0,81   47.511,35         313.0              media   \n",
       "\n",
       "  beneficio neto campaña exitosa categoría inversión categoría beneficio  \n",
       "0     701.511,18              Sí                bajo                alto  \n",
       "1     498.896,12              Sí                bajo               medio  \n",
       "2     373.584,32              Sí                alto               medio  \n",
       "3      75.368,98              Sí                bajo                bajo  \n",
       "4       8.219,45              Sí               medio                bajo  "
      ]
     },
     "execution_count": 306,
     "metadata": {},
     "output_type": "execute_result"
    }
   ],
   "source": [
    "df.head(5)\n"
   ]
  },
  {
   "cell_type": "markdown",
   "id": "a0164ce0",
   "metadata": {},
   "source": [
    "## Actualizamos dataset"
   ]
  },
  {
   "cell_type": "code",
   "execution_count": 308,
   "id": "adca1e25",
   "metadata": {
    "vscode": {
     "languageId": "ruby"
    }
   },
   "outputs": [],
   "source": [
    "# Guarda el DataFrame limpio en un nuevo archivo CSV\n",
    "df.to_csv('limpio_marketingcampaigns.csv', index=False)"
   ]
  }
 ],
 "metadata": {
  "kernelspec": {
   "display_name": "Python 3",
   "language": "python",
   "name": "python3"
  },
  "language_info": {
   "codemirror_mode": {
    "name": "ipython",
    "version": 3
   },
   "file_extension": ".py",
   "mimetype": "text/x-python",
   "name": "python",
   "nbconvert_exporter": "python",
   "pygments_lexer": "ipython3",
   "version": "3.13.3"
  }
 },
 "nbformat": 4,
 "nbformat_minor": 5
}
